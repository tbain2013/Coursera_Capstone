{
 "cells": [
  {
   "cell_type": "code",
   "execution_count": 27,
   "metadata": {},
   "outputs": [],
   "source": [
    "from bs4 import BeautifulSoup\n",
    "import requests\n",
    "import pandas as pd"
   ]
  },
  {
   "cell_type": "code",
   "execution_count": 28,
   "metadata": {},
   "outputs": [],
   "source": [
    "# Get HTML page with the desired_data from wikipedia\n",
    "desired_data = requests.get('https://en.wikipedia.org/wiki/List_of_postal_codes_of_Canada:_M').text\n",
    "\n",
    "# Create BeaultifulSoup object\n",
    "soup = BeautifulSoup(desired_data, \"html.parser\")\n",
    "                     \n",
    "#print(soup.prettify())"
   ]
  },
  {
   "cell_type": "code",
   "execution_count": 29,
   "metadata": {},
   "outputs": [],
   "source": [
    "# Find the desired_data under class 'Wikitable Sortable'.\n",
    "wikip_table = soup.find('table', {'class':'wikitable sortable'})\n",
    "#print(wikip_table.prettify())\n",
    "\n"
   ]
  },
  {
   "cell_type": "code",
   "execution_count": 30,
   "metadata": {},
   "outputs": [],
   "source": [
    "# Collect rows from table\n",
    "wikip_table_rows = wikip_table.findAll('tr')\n",
    "#print(wikip_table_rows)"
   ]
  },
  {
   "cell_type": "code",
   "execution_count": 31,
   "metadata": {},
   "outputs": [],
   "source": [
    "# Initialize df\n",
    "sol = [] \n",
    "for tr in wikip_table_rows:\n",
    "    td = tr.find_all('td')\n",
    "    row = [tr.text.strip() for tr in td if tr.text.strip()]\n",
    "    #print(row)\n",
    "    if row:\n",
    "        if (row[1]!='Not assigned'):\n",
    "            if (row[2]=='Not assigned'):\n",
    "                row[2]=row[1]\n",
    "            sol.append(row)\n",
    "#print('\\n')            \n",
    "#print(sol)"
   ]
  },
  {
   "cell_type": "code",
   "execution_count": 135,
   "metadata": {},
   "outputs": [
    {
     "name": "stdout",
     "output_type": "stream",
     "text": [
      "(103, 3)\n"
     ]
    }
   ],
   "source": [
    "# Reformatting to join neighborhoods from the same borough\n",
    "for tr in wikip_table_rows:\n",
    "    td = tr.find_all('td')\n",
    "    row = [tr.text.strip() for tr in td if tr.text.strip()]\n",
    "    if row:\n",
    "        if (row[1]!='Not assigned'):\n",
    "            if (row[2]=='Not assigned'):\n",
    "                row[2]=row[1]\n",
    "            for j in range(0, len(sol)):\n",
    "                if (row[0]==sol[j][0]):\n",
    "                    if (row[2]!=sol[j][2]):\n",
    "                        if row[2] not in sol[j][2]:\n",
    "                            sol[j][2] = sol[j][2]+','+row[2]\n",
    "#print(res)                        \n",
    "# Set Pandas DataFrame columns names\n",
    "df = pd.DataFrame(sol, columns=[\"Postcode\", \"Borough\", \"Neighborhood\"])\n",
    "# Drop duplicate rows:\n",
    "df = df.drop_duplicates(subset='Postcode', keep='first', inplace=False)\n",
    "df= df.rename(columns={'Postcode': 'Postal Code'})\n",
    "df.head()\n",
    "print(df.shape)"
   ]
  },
  {
   "cell_type": "code",
   "execution_count": 132,
   "metadata": {},
   "outputs": [
    {
     "data": {
      "text/html": [
       "<div>\n",
       "<style scoped>\n",
       "    .dataframe tbody tr th:only-of-type {\n",
       "        vertical-align: middle;\n",
       "    }\n",
       "\n",
       "    .dataframe tbody tr th {\n",
       "        vertical-align: top;\n",
       "    }\n",
       "\n",
       "    .dataframe thead th {\n",
       "        text-align: right;\n",
       "    }\n",
       "</style>\n",
       "<table border=\"1\" class=\"dataframe\">\n",
       "  <thead>\n",
       "    <tr style=\"text-align: right;\">\n",
       "      <th></th>\n",
       "      <th>Postal Code</th>\n",
       "      <th>Latitude</th>\n",
       "      <th>Longitude</th>\n",
       "    </tr>\n",
       "  </thead>\n",
       "  <tbody>\n",
       "    <tr>\n",
       "      <th>0</th>\n",
       "      <td>M1B</td>\n",
       "      <td>43.806686</td>\n",
       "      <td>-79.194353</td>\n",
       "    </tr>\n",
       "    <tr>\n",
       "      <th>1</th>\n",
       "      <td>M1C</td>\n",
       "      <td>43.784535</td>\n",
       "      <td>-79.160497</td>\n",
       "    </tr>\n",
       "    <tr>\n",
       "      <th>2</th>\n",
       "      <td>M1E</td>\n",
       "      <td>43.763573</td>\n",
       "      <td>-79.188711</td>\n",
       "    </tr>\n",
       "    <tr>\n",
       "      <th>3</th>\n",
       "      <td>M1G</td>\n",
       "      <td>43.770992</td>\n",
       "      <td>-79.216917</td>\n",
       "    </tr>\n",
       "    <tr>\n",
       "      <th>4</th>\n",
       "      <td>M1H</td>\n",
       "      <td>43.773136</td>\n",
       "      <td>-79.239476</td>\n",
       "    </tr>\n",
       "  </tbody>\n",
       "</table>\n",
       "</div>"
      ],
      "text/plain": [
       "  Postal Code   Latitude  Longitude\n",
       "0         M1B  43.806686 -79.194353\n",
       "1         M1C  43.784535 -79.160497\n",
       "2         M1E  43.763573 -79.188711\n",
       "3         M1G  43.770992 -79.216917\n",
       "4         M1H  43.773136 -79.239476"
      ]
     },
     "execution_count": 132,
     "metadata": {},
     "output_type": "execute_result"
    }
   ],
   "source": [
    "import pandas as pd\n",
    "pd.set_option('display.max_columns', 10)\n",
    "pd.set_option('display.width', 1000)\n",
    "data = pd.read_csv('Geospatial_Coordinates.csv')\n",
    "data.head()"
   ]
  },
  {
   "cell_type": "code",
   "execution_count": 133,
   "metadata": {},
   "outputs": [
    {
     "name": "stdout",
     "output_type": "stream",
     "text": [
      "    Postal Code           Borough                                       Neighborhood   Latitude  Longitude\n",
      "0           M3A        North York                                          Parkwoods  43.753259 -79.329656\n",
      "1           M4A        North York                                   Victoria Village  43.725882 -79.315572\n",
      "2           M5A  Downtown Toronto                           Harbourfront,Regent Park  43.654260 -79.360636\n",
      "3           M6A        North York                    Lawrence Heights,Lawrence Manor  43.718518 -79.464763\n",
      "4           M7A      Queen's Park                                       Queen's Park  43.662301 -79.389494\n",
      "5           M9A         Etobicoke                                   Islington Avenue  43.667856 -79.532242\n",
      "6           M1B       Scarborough                                      Rouge,Malvern  43.806686 -79.194353\n",
      "7           M3B        North York                                    Don Mills North  43.745906 -79.352188\n",
      "8           M4B         East York                     Woodbine Gardens,Parkview Hill  43.706397 -79.309937\n",
      "9           M5B  Downtown Toronto                            Ryerson,Garden District  43.657162 -79.378937\n",
      "10          M6B        North York                                          Glencairn  43.709577 -79.445073\n",
      "11          M9B         Etobicoke  Cloverdale,Islington,Martin Grove,Princess Gar...  43.650943 -79.554724\n",
      "12          M1C       Scarborough               Highland Creek,Rouge Hill,Port Union  43.784535 -79.160497\n",
      "13          M3C        North York                    Flemingdon Park,Don Mills South  43.725900 -79.340923\n",
      "14          M4C         East York                                   Woodbine Heights  43.695344 -79.318389\n",
      "15          M5C  Downtown Toronto                                     St. James Town  43.651494 -79.375418\n",
      "16          M6C              York                                 Humewood-Cedarvale  43.693781 -79.428191\n",
      "17          M9C         Etobicoke  Bloordale Gardens,Eringate,Markland Wood,Old B...  43.643515 -79.577201\n",
      "18          M1E       Scarborough                    Guildwood,Morningside,West Hill  43.763573 -79.188711\n",
      "19          M4E      East Toronto                                        The Beaches  43.676357 -79.293031\n",
      "20          M5E  Downtown Toronto                                        Berczy Park  43.644771 -79.373306\n",
      "21          M6E              York                                Caledonia-Fairbanks  43.689026 -79.453512\n",
      "22          M1G       Scarborough                                             Woburn  43.770992 -79.216917\n",
      "23          M4G         East York                                            Leaside  43.709060 -79.363452\n",
      "24          M5G  Downtown Toronto                                 Central Bay Street  43.657952 -79.387383\n",
      "25          M6G  Downtown Toronto                                           Christie  43.669542 -79.422564\n",
      "26          M1H       Scarborough                                          Cedarbrae  43.773136 -79.239476\n",
      "27          M2H        North York                                  Hillcrest Village  43.803762 -79.363452\n",
      "28          M3H        North York      Bathurst Manor,Downsview North,Wilson Heights  43.754328 -79.442259\n",
      "29          M4H         East York                                   Thorncliffe Park  43.705369 -79.349372\n",
      "..          ...               ...                                                ...        ...        ...\n",
      "73          M4R   Central Toronto                                 North Toronto West  43.715383 -79.405678\n",
      "74          M5R   Central Toronto                  The Annex,North Midtown,Yorkville  43.672710 -79.405678\n",
      "75          M6R      West Toronto                              Parkdale,Roncesvalles  43.648960 -79.456325\n",
      "76          M7R       Mississauga              Canada Post Gateway Processing Centre  43.636966 -79.615819\n",
      "77          M9R         Etobicoke  Kingsview Village,Martin Grove Gardens,Richvie...  43.688905 -79.554724\n",
      "78          M1S       Scarborough                                          Agincourt  43.794200 -79.262029\n",
      "79          M4S   Central Toronto                                         Davisville  43.704324 -79.388790\n",
      "80          M5S  Downtown Toronto                      Harbord,University of Toronto  43.662696 -79.400049\n",
      "81          M6S      West Toronto                                  Runnymede,Swansea  43.651571 -79.484450\n",
      "82          M1T       Scarborough              Clarks Corners,Sullivan,Tam O'Shanter  43.781638 -79.304302\n",
      "83          M4T   Central Toronto                         Moore Park,Summerhill East  43.689574 -79.383160\n",
      "84          M5T  Downtown Toronto            Chinatown,Grange Park,Kensington Market  43.653206 -79.400049\n",
      "85          M1V       Scarborough  Agincourt North,L'Amoreaux East,Milliken,Steel...  43.815252 -79.284577\n",
      "86          M4V   Central Toronto  Deer Park,Forest Hill SE,Rathnelly,South Hill,...  43.686412 -79.400049\n",
      "87          M5V  Downtown Toronto  CN Tower,Bathurst Quay,Island airport,Harbourf...  43.628947 -79.394420\n",
      "88          M8V         Etobicoke         Humber Bay Shores,Mimico South,New Toronto  43.605647 -79.501321\n",
      "89          M9V         Etobicoke  Albion Gardens,Beaumond Heights,Humbergate,Jam...  43.739416 -79.588437\n",
      "90          M1W       Scarborough                       L'Amoreaux West,Steeles West  43.799525 -79.318389\n",
      "91          M4W  Downtown Toronto                                           Rosedale  43.679563 -79.377529\n",
      "92          M5W  Downtown Toronto                    Stn A PO Boxes 25 The Esplanade  43.646435 -79.374846\n",
      "93          M8W         Etobicoke                              Alderwood,Long Branch  43.602414 -79.543484\n",
      "94          M9W         Etobicoke                                          Northwest  43.706748 -79.594054\n",
      "95          M1X       Scarborough                                        Upper Rouge  43.836125 -79.205636\n",
      "96          M4X  Downtown Toronto                         Cabbagetown,St. James Town  43.667967 -79.367675\n",
      "97          M5X  Downtown Toronto              First Canadian Place,Underground city  43.648429 -79.382280\n",
      "98          M8X         Etobicoke        The Kingsway,Montgomery Road,Old Mill North  43.653654 -79.506944\n",
      "99          M4Y  Downtown Toronto                               Church and Wellesley  43.665860 -79.383160\n",
      "100         M7Y      East Toronto   Business reply mail Processing Centre969 Eastern  43.662744 -79.321558\n",
      "101         M8Y         Etobicoke  Humber Bay,King's Mill Park,Kingsway Park Sout...  43.636258 -79.498509\n",
      "102         M8Z         Etobicoke  Kingsway Park South West,Mimico NW,The Queensw...  43.628841 -79.520999\n",
      "\n",
      "[103 rows x 5 columns]\n"
     ]
    }
   ],
   "source": [
    "result = pd.merge(df, data, on='Postal Code')\n",
    "print(result)"
   ]
  },
  {
   "cell_type": "code",
   "execution_count": null,
   "metadata": {},
   "outputs": [],
   "source": []
  }
 ],
 "metadata": {
  "kernelspec": {
   "display_name": "Python 3",
   "language": "python",
   "name": "python3"
  },
  "language_info": {
   "codemirror_mode": {
    "name": "ipython",
    "version": 3
   },
   "file_extension": ".py",
   "mimetype": "text/x-python",
   "name": "python",
   "nbconvert_exporter": "python",
   "pygments_lexer": "ipython3",
   "version": "3.6.5"
  }
 },
 "nbformat": 4,
 "nbformat_minor": 2
}
